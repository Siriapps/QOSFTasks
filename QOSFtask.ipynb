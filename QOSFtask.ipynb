{
 "cells": [
  {
   "cell_type": "code",
   "execution_count": 25,
   "metadata": {},
   "outputs": [
    {
     "ename": "SyntaxError",
     "evalue": "invalid syntax (<ipython-input-25-78b29c1a3461>, line 4)",
     "output_type": "error",
     "traceback": [
      "\u001b[1;36m  File \u001b[1;32m\"<ipython-input-25-78b29c1a3461>\"\u001b[1;36m, line \u001b[1;32m4\u001b[0m\n\u001b[1;33m    A vector will be given for example [1, 5, 4, 2], where we need to convert them to\u001b[0m\n\u001b[1;37m           ^\u001b[0m\n\u001b[1;31mSyntaxError\u001b[0m\u001b[1;31m:\u001b[0m invalid syntax\n"
     ]
    }
   ],
   "source": [
    "# Task 1 Solution\n",
    "\n",
    "### My understanding of the problem - <br>\n",
    "A vector will be given for example [1, 5, 4, 2], where we need to convert them to\n",
    "their binary values i.e. [001,101,100,010].\n",
    "Next, we need to find all the binary numbers where two adjacent bits will\n",
    "always have different values i.e. alternate pattern, so here the numbers 2 and 5.\n",
    "Finally, we have to return the\n",
    "superposition of the indices of numbers 2 and 5 i.e. binary numbers with alternate pattern.\n",
    "\n",
    "### My approach - <br>\n",
    "<ol>\n",
    "    <li> Take Input vector of any length 2^n. </li>\n",
    "    <li> Convert the vector into binary numbers of equal length </li>\n",
    "    <li> Find all the indices of the binary numbers whose adjacent bits are always different i.e. alternative bits pattern </li>\n",
    "    <li> Create a statevector of superposition of the indices </li>\n",
    "    <li> Initialize the circuit with statevector </li>\n",
    "    <li> Draw the circuit </li>\n",
    "</ol>"
   ]
  },
  {
   "cell_type": "markdown",
   "metadata": {},
   "source": [
    "import numpy as np\n",
    "import re\n",
    "\n",
    "#Importing standard Qiskit libraries\n",
    "from qiskit import QuantumCircuit, transpile, Aer, IBMQ\n",
    "from qiskit.tools.jupyter import *\n",
    "from qiskit.visualization import *\n",
    "from ibm_quantum_widgets import *\n",
    "from qiskit.providers.aer import QasmSimulator\n",
    "\n",
    "#Loading your IBM Quantum account(s)\n",
    "#provider = IBMQ.load_account()"
   ]
  },
  {
   "cell_type": "code",
   "execution_count": 24,
   "metadata": {},
   "outputs": [],
   "source": [
    "def convertDecIntoBits(lst: list) -> list:\n",
    "    MaxNum = max(lst)\n",
    "    MaxLength = len(bin(MaxNum).replace(\"0b\", \"\"))\n",
    "    binaryVec = []\n",
    "    for num in lst:\n",
    "        binaryNum = bin(num).replace(\"0b\", \"\")\n",
    "        binNum = binaryNum.zfill(MaxLength)\n",
    "        binaryVec.append(binNum)\n",
    "    return binaryVec\n"
   ]
  },
  {
   "cell_type": "code",
   "execution_count": 16,
   "metadata": {},
   "outputs": [
    {
     "name": "stdout",
     "output_type": "stream",
     "text": [
      "['0001', '0101', '0111', '1010']\n"
     ]
    }
   ],
   "source": [
    "\n",
    "# vector = list(map(int,input(\"Vector elements: \").split()))\n",
    "vector = [1,5,7,10]\n",
    "\n",
    "binaryVec = convertDecIntoBits(vector)\n",
    "print(binaryVec)"
   ]
  },
  {
   "cell_type": "code",
   "execution_count": 17,
   "metadata": {},
   "outputs": [],
   "source": [
    "\n",
    "def checkIfValid(binNum: int) -> bool:\n",
    "    pattern = r\"^([01])(?!\\1)([01])(?:\\1\\2)*\\1?$\"\n",
    "    return re.fullmatch(pattern,binNum)"
   ]
  },
  {
   "cell_type": "code",
   "execution_count": 18,
   "metadata": {},
   "outputs": [
    {
     "name": "stdout",
     "output_type": "stream",
     "text": [
      "[1, 3]\n",
      "2\n"
     ]
    }
   ],
   "source": [
    "indices = []\n",
    "for i in range(len(binaryVec)):\n",
    "    binNum = binaryVec[i]\n",
    "    if checkIfValid(binNum):\n",
    "        indices.append(i)\n",
    "print(indices)\n",
    "\n",
    "# bitIndices = convertDecIntoBits(indices)\n",
    "# print(bitIndices)\n",
    "n = len(bin(max(indices))[2:])\n",
    "print(n)"
   ]
  },
  {
   "cell_type": "code",
   "execution_count": 19,
   "metadata": {},
   "outputs": [
    {
     "data": {
      "text/html": [
       "<pre style=\"word-wrap: normal;white-space: pre;background: #fff0;line-height: 1.1;font-family: &quot;Courier New&quot;,Courier,monospace\">     ┌──────────────────────────────────┐\n",
       "q_0: ┤0                                 ├\n",
       "     │  initialize(0,0.70711,0,0.70711) │\n",
       "q_1: ┤1                                 ├\n",
       "     └──────────────────────────────────┘</pre>"
      ],
      "text/plain": [
       "     ┌──────────────────────────────────┐\n",
       "q_0: ┤0                                 ├\n",
       "     │  initialize(0,0.70711,0,0.70711) │\n",
       "q_1: ┤1                                 ├\n",
       "     └──────────────────────────────────┘"
      ]
     },
     "execution_count": 19,
     "metadata": {},
     "output_type": "execute_result"
    }
   ],
   "source": [
    "#Statevector of initial superposition state\n",
    "initial_sv = np.zeros(shape = (2**n))\n",
    "\n",
    "for i in indices:\n",
    "    initial_sv[i] = 1/np.sqrt(2)\n",
    "\n",
    "#Initialize Quantum Circuit\n",
    "initial_state = QuantumCircuit(n)\n",
    "initial_state.initialize( initial_sv, range(n) )\n",
    "initial_state.draw()\n"
   ]
  },
  {
   "cell_type": "code",
   "execution_count": null,
   "metadata": {},
   "outputs": [],
   "source": []
  }
 ],
 "metadata": {
  "kernelspec": {
   "display_name": "Python 3",
   "language": "python",
   "name": "python3"
  },
  "language_info": {
   "codemirror_mode": {
    "name": "ipython",
    "version": 3
   },
   "file_extension": ".py",
   "mimetype": "text/x-python",
   "name": "python",
   "nbconvert_exporter": "python",
   "pygments_lexer": "ipython3",
   "version": "3.7.6"
  }
 },
 "nbformat": 4,
 "nbformat_minor": 4
}
